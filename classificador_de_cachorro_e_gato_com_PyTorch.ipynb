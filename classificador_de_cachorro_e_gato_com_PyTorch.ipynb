{
 "cells": [
  {
   "cell_type": "markdown",
   "id": "b75f73e0",
   "metadata": {},
   "source": [
    "# Importações\n"
   ]
  },
  {
   "cell_type": "code",
   "execution_count": 2,
   "id": "709e3070",
   "metadata": {},
   "outputs": [],
   "source": [
    "import torch\n",
    "\n",
    "# Camadas e funções de redes neurais (Linear, Conv2d, ReLU)\n",
    "import torch.nn as nn\n",
    "\n",
    "# Otimizador que atualizam os pesos SGD(descida do gradiente) Adam(mais avançado)\n",
    "# Os otimizadores da rede ajustam os pesos após cada erro\n",
    "import torch.optim as optim\n",
    "\n",
    "# Ferramentas para visão computacional\n",
    "import torchvision\n",
    "\n",
    "# Transformações aplicadas nas imagens, como: Girar, normalizar, inverter\n",
    "import torchvision.transforms as transforms\n",
    "\n",
    "# Fica os datasets\n",
    "import torchvision.datasets as datasets\n",
    "\n",
    "# Ferramentas para manipular os dados\n",
    "# DataLoader: Entrega os dados em mini-batches\n",
    "# random_split: divide em treino/teste de forma aleatória\n",
    "from torch.utils.data import DataLoader, random_split\n",
    "\n",
    "import matplotlib.pyplot as plt\n",
    "\n",
    "import os\n",
    "\n",
    "import random\n",
    "\n",
    "import shutil"
   ]
  },
  {
   "cell_type": "markdown",
   "id": "af7c1b1f",
   "metadata": {},
   "source": [
    "## Inicializando a GPU"
   ]
  },
  {
   "cell_type": "code",
   "execution_count": 3,
   "id": "a657b7d2",
   "metadata": {},
   "outputs": [
    {
     "name": "stdout",
     "output_type": "stream",
     "text": [
      "Usando dispositivo: cuda\n"
     ]
    }
   ],
   "source": [
    "device = torch.device('cuda' if torch.cuda.is_available() else 'cpu')\n",
    "\n",
    "print(f\"Usando dispositivo: {device}\")"
   ]
  }
 ],
 "metadata": {
  "kernelspec": {
   "display_name": "base",
   "language": "python",
   "name": "python3"
  },
  "language_info": {
   "codemirror_mode": {
    "name": "ipython",
    "version": 3
   },
   "file_extension": ".py",
   "mimetype": "text/x-python",
   "name": "python",
   "nbconvert_exporter": "python",
   "pygments_lexer": "ipython3",
   "version": "3.11.7"
  }
 },
 "nbformat": 4,
 "nbformat_minor": 5
}
