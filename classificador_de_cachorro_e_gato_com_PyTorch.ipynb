{
 "cells": [
  {
   "cell_type": "markdown",
   "id": "b75f73e0",
   "metadata": {},
   "source": [
    "# Importações\n"
   ]
  },
  {
   "cell_type": "code",
   "execution_count": 4,
   "id": "709e3070",
   "metadata": {},
   "outputs": [],
   "source": [
    "import torch\n",
    "\n",
    "# Camadas e funções de redes neurais (Linear, Conv2d, ReLU)\n",
    "import torch.nn as nn\n",
    "\n",
    "# Otimizador que atualizam os pesos SGD(descida do gradiente) Adam(mais avançado)\n",
    "# Os otimizadores da rede ajustam os pesos após cada erro\n",
    "import torch.optim as optim\n",
    "\n",
    "# Ferramentas para visão computacional\n",
    "import torchvision\n",
    "\n",
    "# Transformações aplicadas nas imagens, como: Girar, normalizar, inverter\n",
    "import torchvision.transforms as transforms\n",
    "\n",
    "# Fica os datasets\n",
    "import torchvision.datasets as datasets\n",
    "\n",
    "from torchvision.datasets import ImageFolder\n",
    "\n",
    "# Ferramentas para manipular os dados\n",
    "# DataLoader: Entrega os dados em mini-batches\n",
    "# random_split: divide em treino/teste de forma aleatória\n",
    "from torch.utils.data import DataLoader, random_split\n",
    "\n",
    "import matplotlib.pyplot as plt\n",
    "\n",
    "import os\n",
    "\n",
    "import random\n",
    "\n",
    "import shutil"
   ]
  },
  {
   "cell_type": "markdown",
   "id": "af7c1b1f",
   "metadata": {},
   "source": [
    "## Inicializando a GPU"
   ]
  },
  {
   "cell_type": "code",
   "execution_count": 2,
   "id": "a657b7d2",
   "metadata": {},
   "outputs": [
    {
     "name": "stdout",
     "output_type": "stream",
     "text": [
      "Usando dispositivo: cuda\n"
     ]
    }
   ],
   "source": [
    "device = torch.device('cuda' if torch.cuda.is_available() else 'cpu')\n",
    "\n",
    "print(f\"Usando dispositivo: {device}\")"
   ]
  },
  {
   "cell_type": "markdown",
   "id": "b09927a1",
   "metadata": {},
   "source": [
    "# Organizando as pastas"
   ]
  },
  {
   "cell_type": "markdown",
   "id": "08f3e6d7",
   "metadata": {},
   "source": [
    "Quero organizar assim <br>\n",
    "\n",
    "dataset/ <br>\n",
    "├── treino/ <br>\n",
    "│   ├── gato/ <br>\n",
    "│   └── cachorro/ <br>\n",
    "├── teste/ <br>\n",
    "│   ├── gato/ <br> \n",
    "│   └── cachorro/ <br>\n"
   ]
  },
  {
   "cell_type": "code",
   "execution_count": 7,
   "id": "495166b0",
   "metadata": {},
   "outputs": [],
   "source": [
    "# Configurações\n",
    "caminho_gatos = '../../../../../../Downloads/archive/PetImages/Cat'\n",
    "caminho_cachorros = '../../../../../../Downloads/archive/PetImages/Dog'\n",
    "destino_base = '../../../../../../Downloads/archive/dataset'\n",
    "proporcao_treino = 0.8\n",
    "\n",
    "# Cria pastas destino\n",
    "for modo in ['treino', 'teste']:\n",
    "    for classe in ['gato', 'cachorro']:\n",
    "        path = os.path.join(destino_base, modo, classe)\n",
    "        os.makedirs(path, exist_ok=True)\n",
    "\n",
    "# Função para separar e copiar arquivos\n",
    "def copiar_arquivos(origem, classe):\n",
    "    arquivos = os.listdir(origem)\n",
    "    random.shuffle(arquivos)\n",
    "    for arquivo in arquivos:\n",
    "        caminho_origem = os.path.join(origem, arquivo)\n",
    "        if random.random() < proporcao_treino:\n",
    "            destino = os.path.join(destino_base, 'treino', classe, arquivo)\n",
    "        else:\n",
    "            destino = os.path.join(destino_base, 'teste', classe, arquivo)\n",
    "        shutil.copy(caminho_origem, destino)\n",
    "\n",
    "# Executa para gatos e cachorros\n",
    "copiar_arquivos(caminho_gatos, 'gato')\n",
    "copiar_arquivos(caminho_cachorros, 'cachorro')"
   ]
  },
  {
   "cell_type": "markdown",
   "id": "9f3c04f2",
   "metadata": {},
   "source": [
    "# Carregando os dados com ImageFolder e aplicando Transformações"
   ]
  },
  {
   "cell_type": "code",
   "execution_count": 3,
   "id": "f2d70c55",
   "metadata": {},
   "outputs": [],
   "source": [
    "transformacoes = transforms.Compose([\n",
    "  transforms.Resize((128, 128)), # Redimensiona todas as imagens para 128x128\n",
    "  transforms.ToTensor(), # Converte imagem para tensor (0.0a 1.0)\n",
    "  transforms.Normalize(mean=[0.5, 0.5, 0.5], std=[0.5, 0.5, 0.5]) # Normaliza para -1 a 1\n",
    "])"
   ]
  },
  {
   "cell_type": "markdown",
   "id": "0cfea131",
   "metadata": {},
   "source": [
    "## Carregar com ImageFolder"
   ]
  },
  {
   "cell_type": "code",
   "execution_count": 5,
   "id": "639e726e",
   "metadata": {},
   "outputs": [],
   "source": [
    "# Caminhos das pastas\n",
    "caminho_treino = '../../../../../../Downloads/archive/dataset/treino'\n",
    "caminho_teste = '../../../../../../Downloads/archive/dataset/teste'\n",
    "\n",
    "# Carrega os datasets\n",
    "dataset_treino = ImageFolder(root=caminho_treino, transform=transformacoes)\n",
    "dataset_teste = ImageFolder(root=caminho_teste, transform=transformacoes)\n",
    "\n",
    "# Cria os DataLoaders\n",
    "loader_treino = DataLoader(dataset_treino, batch_size=32, shuffle=True)\n",
    "loader_treino = DataLoader(dataset_teste, batch_size=32, shuffle=False)"
   ]
  }
 ],
 "metadata": {
  "kernelspec": {
   "display_name": "base",
   "language": "python",
   "name": "python3"
  },
  "language_info": {
   "codemirror_mode": {
    "name": "ipython",
    "version": 3
   },
   "file_extension": ".py",
   "mimetype": "text/x-python",
   "name": "python",
   "nbconvert_exporter": "python",
   "pygments_lexer": "ipython3",
   "version": "3.11.7"
  }
 },
 "nbformat": 4,
 "nbformat_minor": 5
}
